{
 "cells": [
  {
   "cell_type": "code",
   "execution_count": 55,
   "id": "821a9138",
   "metadata": {},
   "outputs": [],
   "source": [
    "import numpy as np"
   ]
  },
  {
   "cell_type": "code",
   "execution_count": 56,
   "id": "043fa496",
   "metadata": {},
   "outputs": [],
   "source": [
    "board = np.array([np.random.choice([0, 1], size=10, p=[0.9, 0.1]) for i in range(8)])"
   ]
  },
  {
   "cell_type": "code",
   "execution_count": 90,
   "id": "52eef319",
   "metadata": {},
   "outputs": [],
   "source": [
    "def find_all_moves(board):\n",
    "    \"\"\"\n",
    "    \"\"\"\n",
    "    moves = [(-1, 0), (-1, -1), (-1, 1), (0, -1), (0, 1), (1, -1), (1, 0), (1, 1)]\n",
    "    row_ind, col_ind = np.where(board)\n",
    "    _moves = []\n",
    "    options = 0\n",
    "    for ri, ci in zip(row_ind, col_ind):\n",
    "        for (mr, mc) in moves:\n",
    "            if (ri + mr) >= 0 and (ci + mc) >= 0 and ri + mr < board.shape[0] and ci + mc < board.shape[1]:\n",
    "                if board[ri + mr][mc + ci] == 0:\n",
    "                    options += 1\n",
    "                    _moves.append([(ri, ci), (ri + mr, mc + ci)])\n",
    "                    \n",
    "    return _moves"
   ]
  },
  {
   "cell_type": "code",
   "execution_count": 92,
   "id": "a4dc9448",
   "metadata": {},
   "outputs": [
    {
     "name": "stdout",
     "output_type": "stream",
     "text": [
      "CPU times: user 6.56 ms, sys: 394 µs, total: 6.96 ms\n",
      "Wall time: 6.64 ms\n"
     ]
    }
   ],
   "source": [
    "%%time\n",
    "moves = find_all_moves(board)\n",
    "\n",
    "for (ri, ci), (nri, nci) in moves:\n",
    "    dc = board.copy()\n",
    "    dc[ri, ci] = 0\n",
    "    dc[nri, nci] = 1\n",
    "    g = find_all_moves(dc)"
   ]
  },
  {
   "cell_type": "code",
   "execution_count": 94,
   "id": "88aafd57",
   "metadata": {},
   "outputs": [
    {
     "data": {
      "text/plain": [
       "'\\nfunction alphabeta(node, depth, α, β, maximizingPlayer) is\\n    if depth == 0 or node is terminal then\\n        return the heuristic value of node\\n    if maximizingPlayer then\\n        value := −∞\\n        for each child of node do\\n            value := max(value, alphabeta(child, depth − 1, α, β, FALSE))\\n            if value > β then\\n                break (* β cutoff *)\\n            α := max(α, value)\\n        return value\\n    else\\n        value := +∞\\n        for each child of node do\\n            value := min(value, alphabeta(child, depth − 1, α, β, TRUE))\\n            if value < α then\\n                break (* α cutoff *)\\n            β := min(β, value)\\n        return value\\n\\n'"
      ]
     },
     "execution_count": 94,
     "metadata": {},
     "output_type": "execute_result"
    }
   ],
   "source": [
    "\"\"\"\n",
    "function alphabeta(node, depth, α, β, maximizingPlayer) is\n",
    "    if depth == 0 or node is terminal then\n",
    "        return the heuristic value of node\n",
    "    if maximizingPlayer then\n",
    "        value := −∞\n",
    "        for each child of node do\n",
    "            value := max(value, alphabeta(child, depth − 1, α, β, FALSE))\n",
    "            if value > β then\n",
    "                break (* β cutoff *)\n",
    "            α := max(α, value)\n",
    "        return value\n",
    "    else\n",
    "        value := +∞\n",
    "        for each child of node do\n",
    "            value := min(value, alphabeta(child, depth − 1, α, β, TRUE))\n",
    "            if value < α then\n",
    "                break (* α cutoff *)\n",
    "            β := min(β, value)\n",
    "        return value\n",
    "\n",
    "\"\"\""
   ]
  },
  {
   "cell_type": "code",
   "execution_count": 95,
   "id": "87b05034",
   "metadata": {},
   "outputs": [
    {
     "data": {
      "text/plain": [
       "1679616"
      ]
     },
     "execution_count": 95,
     "metadata": {},
     "output_type": "execute_result"
    }
   ],
   "source": [
    "36 ** 4"
   ]
  },
  {
   "cell_type": "code",
   "execution_count": 98,
   "id": "36040110",
   "metadata": {},
   "outputs": [],
   "source": [
    "def alphabeta(node, depth, alpha, beta, maximizingPlayer):\n",
    "    \"\"\"\n",
    "    \"\"\"\n",
    "    if depth == 0 or node_is_terminal:\n",
    "        return node_value\n",
    "    \n",
    "    if maximizingPlayer:\n",
    "        value = -np.inf\n",
    "        for child in node:\n",
    "            value = max(value, alphabeta(child, depth - 1, alpha, beta, False))\n",
    "            if value > beta:\n",
    "                break\n",
    "            alpha = max(alpha, value)\n",
    "            \n",
    "        return value\n",
    "    \n",
    "    else:\n",
    "        value = np.inf\n",
    "        for child in node:\n",
    "            value = min(value, alphabeta(child, depth - 1, alpha, beta, True))\n",
    "            if value < alpha:\n",
    "                break\n",
    "            \n",
    "            beta = min(beta, value)\n",
    "            \n",
    "        return value\n",
    "    \n",
    "# Table for storing the evaluations of various positions\n",
    "transposition_tables = {\n",
    "    \n",
    "}\n",
    "    \n",
    "def alpha_beta_search(position, depth, alpha, beta, maximizing_player):\n",
    "    \"\"\"\n",
    "    \n",
    "    Parameters:\n",
    "        position: pass\n",
    "        depth: pass\n",
    "        alpha: pass\n",
    "        beta: pass\n",
    "        maximizing_player: pass\n",
    "        \n",
    "    Return: \n",
    "        score: \n",
    "    \"\"\"\n",
    "    if depth == 0 or position_is_terminal(position):\n",
    "        return evaluate_position(position)\n",
    "\n",
    "    legal_moves = generate_legal_moves(position)\n",
    "\n",
    "    if maximizing_player:\n",
    "        max_eval = float('-inf')\n",
    "        for move in legal_moves:\n",
    "            new_position = make_move(position, move)\n",
    "            eval_score = alpha_beta_search(new_position, depth - 1, alpha, beta, False)\n",
    "            max_eval = max(max_eval, eval_score)\n",
    "            alpha = max(alpha, eval_score)\n",
    "            if beta <= alpha:\n",
    "                break  # Beta cutoff\n",
    "        \n",
    "        return max_eval\n",
    "    else:\n",
    "        min_eval = float('inf')\n",
    "        for move in legal_moves:\n",
    "            new_position = make_move(position, move)\n",
    "            eval_score = alpha_beta_search(new_position, depth - 1, alpha, beta, True)\n",
    "            min_eval = min(min_eval, eval_score)\n",
    "            beta = min(beta, eval_score)\n",
    "            if beta <= alpha:\n",
    "                break  # Alpha cutoff\n",
    "        \n",
    "        return min_eval"
   ]
  },
  {
   "cell_type": "code",
   "execution_count": 106,
   "id": "6f39ee61",
   "metadata": {},
   "outputs": [],
   "source": [
    "class Am:\n",
    "    def __init__(self):\n",
    "        \"\"\"\n",
    "        \"\"\"\n",
    "        pass\n",
    "    \n",
    "    def all_valid_moves(self):\n",
    "        \"\"\"\n",
    "        \"\"\"\n",
    "        moves = ['up', 'down', 'left', 'right']\n",
    "        valid_moves = []\n",
    "        for move in moves:\n",
    "            if self.is_valid_move(move):\n",
    "                valid_moves.append(move)\n",
    "                \n",
    "        return valid_moves\n",
    "            \n",
    "        \n",
    "            \n",
    "    def is_valid_move(self, direction):\n",
    "        \"\"\"\n",
    "        \"\"\"\n",
    "        return True\n",
    "    \n",
    "class Bm(Am):\n",
    "    \"\"\"\n",
    "    \"\"\"\n",
    "    def __init__(self):\n",
    "        \"\"\"\n",
    "        \"\"\"\n",
    "        super().__init__()\n",
    "        \n",
    "    def is_valid_move(self, direction):\n",
    "        \"\"\"\n",
    "        \"\"\"\n",
    "        return direction in ['up', 'down']"
   ]
  },
  {
   "cell_type": "code",
   "execution_count": 107,
   "id": "ddb5763d",
   "metadata": {},
   "outputs": [],
   "source": [
    "clam = Bm()"
   ]
  },
  {
   "cell_type": "code",
   "execution_count": 108,
   "id": "24edd1d2",
   "metadata": {},
   "outputs": [
    {
     "data": {
      "text/plain": [
       "['up', 'down']"
      ]
     },
     "execution_count": 108,
     "metadata": {},
     "output_type": "execute_result"
    }
   ],
   "source": [
    "clam.all_valid_moves()"
   ]
  },
  {
   "cell_type": "code",
   "execution_count": null,
   "id": "8e2ad326",
   "metadata": {},
   "outputs": [],
   "source": []
  }
 ],
 "metadata": {
  "kernelspec": {
   "display_name": "Python 3 (ipykernel)",
   "language": "python",
   "name": "python3"
  },
  "language_info": {
   "codemirror_mode": {
    "name": "ipython",
    "version": 3
   },
   "file_extension": ".py",
   "mimetype": "text/x-python",
   "name": "python",
   "nbconvert_exporter": "python",
   "pygments_lexer": "ipython3",
   "version": "3.8.8"
  },
  "toc": {
   "base_numbering": 1,
   "nav_menu": {},
   "number_sections": true,
   "sideBar": true,
   "skip_h1_title": false,
   "title_cell": "Table of Contents",
   "title_sidebar": "Contents",
   "toc_cell": false,
   "toc_position": {},
   "toc_section_display": true,
   "toc_window_display": false
  }
 },
 "nbformat": 4,
 "nbformat_minor": 5
}
