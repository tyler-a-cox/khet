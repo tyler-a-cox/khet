{
 "cells": [
  {
   "cell_type": "code",
   "execution_count": 1,
   "id": "657fe9ff",
   "metadata": {},
   "outputs": [],
   "source": [
    "import khet\n",
    "import random\n",
    "import pylab as plt\n",
    "%load_ext line_profiler\n",
    "%load_ext memory_profiler"
   ]
  },
  {
   "cell_type": "code",
   "execution_count": 2,
   "id": "66fe386f",
   "metadata": {},
   "outputs": [
    {
     "name": "stdout",
     "output_type": "stream",
     "text": [
      "CPU times: user 78 µs, sys: 3 µs, total: 81 µs\n",
      "Wall time: 85.1 µs\n"
     ]
    }
   ],
   "source": [
    "%%time\n",
    "# Setup the game board\n",
    "game_board = khet.engine.board.GameBoard('classic')"
   ]
  },
  {
   "cell_type": "code",
   "execution_count": 3,
   "id": "7607d7f1",
   "metadata": {},
   "outputs": [
    {
     "name": "stdout",
     "output_type": "stream",
     "text": [
      "7.46 µs ± 86.6 ns per loop (mean ± std. dev. of 7 runs, 100,000 loops each)\n"
     ]
    }
   ],
   "source": [
    "%%timeit\n",
    "_ = khet.engine.evaluate_board_simple(game_board._board, 'red')"
   ]
  },
  {
   "cell_type": "code",
   "execution_count": 4,
   "id": "e618308a",
   "metadata": {},
   "outputs": [
    {
     "data": {
      "text/plain": [
       "'Sdra0.Adre0.Pdrf0.Adrg0.prrh0.pdrc1.plsd2.pura3.pdsc3.Slre3.Surf3.prrh3.plsj3.prra4.plsc4.Srse4.Sdsf4.purh4.pdsj4.prrg5.push6.plsc7.Ausd7.Puse7.Ausf7.Susj7.'"
      ]
     },
     "execution_count": 4,
     "metadata": {},
     "output_type": "execute_result"
    }
   ],
   "source": [
    "game_board.board_repr()"
   ]
  },
  {
   "cell_type": "code",
   "execution_count": 5,
   "id": "b3c5c1f4",
   "metadata": {
    "scrolled": false
   },
   "outputs": [
    {
     "name": "stdout",
     "output_type": "stream",
     "text": [
      "CPU times: user 3.53 s, sys: 12.6 ms, total: 3.54 s\n",
      "Wall time: 3.55 s\n"
     ]
    }
   ],
   "source": [
    "%%time\n",
    "ngames = 1000\n",
    "for game in range(ngames):\n",
    "    # Setup the game board\n",
    "    game_board = khet.engine.board.GameBoard(\"classic\")\n",
    "\n",
    "    # Number of turns before stopping\n",
    "    n_turns = 100\n",
    "    nturn = 0\n",
    "    pharaoh_exists = True\n",
    "\n",
    "    # Loop through turns\n",
    "    while pharaoh_exists and nturn < n_turns:\n",
    "        for color in [\"silver\", \"red\"]:\n",
    "            options = game_board.get_all_valid_moves(color)\n",
    "            piece_index = random.randint(0, len(options) - 1)\n",
    "            move_index = random.randint(0, len(options[piece_index][1]) - 1)\n",
    "\n",
    "            piece, moves = options[piece_index]\n",
    "            move, rotation = moves[move_index]\n",
    "\n",
    "            # move piece\n",
    "            game_board.move_piece(\n",
    "                options[piece_index][0].position, direction=move, rotation=rotation\n",
    "            )\n",
    "\n",
    "            # End turn\n",
    "            game_board.end_turn(color)\n",
    "\n",
    "            pharaoh_exists = game_board.is_game_over()\n",
    "\n",
    "            nturn += 1"
   ]
  },
  {
   "cell_type": "code",
   "execution_count": 6,
   "id": "2f088a7a",
   "metadata": {},
   "outputs": [],
   "source": [
    "f = options[0][1]"
   ]
  },
  {
   "cell_type": "code",
   "execution_count": 7,
   "id": "162a720b",
   "metadata": {},
   "outputs": [],
   "source": [
    "def print_board(board):\n",
    "    for row in board._board:\n",
    "        row_name = ''\n",
    "        for k in row:\n",
    "            if k:\n",
    "                if k.__name__ in [\"Pyramid\", \"Sphinx\"]:\n",
    "                    row_name += k.__name__[:1].lower()\n",
    "                else:\n",
    "                    row_name += k.__name__[:1]\n",
    "            else:\n",
    "                row_name += \".\"\n",
    "\n",
    "        print (row_name)\n",
    "\n",
    "    print ()\n",
    "    orientations = [\"A\", \">\", \"V\", \"<\"]\n",
    "\n",
    "    for row in board._board:\n",
    "        row_name = ''\n",
    "        for k in row:\n",
    "            if k:\n",
    "                row_name += orientations[k.orientation]\n",
    "            else:\n",
    "                row_name += \".\"\n",
    "\n",
    "        print (row_name)"
   ]
  },
  {
   "cell_type": "code",
   "execution_count": 8,
   "id": "f62b6dcc",
   "metadata": {},
   "outputs": [
    {
     "name": "stdout",
     "output_type": "stream",
     "text": [
      "CPU times: user 3.47 s, sys: 11.1 ms, total: 3.48 s\n",
      "Wall time: 3.49 s\n"
     ]
    }
   ],
   "source": [
    "%%time\n",
    "ngames = 1000\n",
    "nturn_list = []\n",
    "winners = []\n",
    "for game in range(ngames):\n",
    "    # Setup the game board\n",
    "    game_board = khet.engine.board.GameBoard(\"classic\")\n",
    "\n",
    "    # Number of turns before stopping\n",
    "    n_turns = 500\n",
    "    nturn = 0\n",
    "    pharaoh_exists = True\n",
    "\n",
    "    # Loop through turns\n",
    "    while pharaoh_exists and nturn < n_turns:\n",
    "        for color in [\"silver\", \"red\"]:\n",
    "            options = game_board.get_all_valid_moves(color)\n",
    "            piece_index = random.randint(0, len(options) - 1)\n",
    "            move_index = random.randint(0, len(options[piece_index][1]) - 1)\n",
    "\n",
    "            piece, moves = options[piece_index]\n",
    "            move, rotation = moves[move_index]\n",
    "\n",
    "            # move piece\n",
    "            game_board.move_piece(\n",
    "                options[piece_index][0].position, direction=move, rotation=rotation\n",
    "            )\n",
    "\n",
    "            # End turn\n",
    "            game_board.end_turn(color)\n",
    "\n",
    "            #\n",
    "            active_pieces = [\n",
    "                piece\n",
    "                for row in game_board._board\n",
    "                for piece in row\n",
    "                if piece and piece.__name__ == 'Pharaoh'\n",
    "            ]\n",
    "            \n",
    "            if len(active_pieces) < 2:\n",
    "                pharaoh_exists = False\n",
    "                \n",
    "                try:\n",
    "                    if active_pieces[0].color == 'red':\n",
    "                        winners.append('silver')\n",
    "                    else:\n",
    "                        winners.append('red')\n",
    "                except:\n",
    "                    winners.append(None)\n",
    "                    \n",
    "                break\n",
    "\n",
    "            nturn += 1\n",
    "            \n",
    "    nturn_list.append(nturn)\n",
    "    if nturn == n_turns:\n",
    "        winners.append(None)"
   ]
  },
  {
   "cell_type": "code",
   "execution_count": 9,
   "id": "e5824c9d",
   "metadata": {},
   "outputs": [],
   "source": [
    "def simulate_game(n_turns=100):\n",
    "    board_state = []\n",
    "    board_scores = []\n",
    "    pharaoh_exists = True\n",
    "    nturn = 0\n",
    "    game_board = khet.engine.board.GameBoard(\"classic\")\n",
    "    while pharaoh_exists and nturn < n_turns:\n",
    "        for color in [\"silver\", \"red\"]:\n",
    "            options = game_board.get_all_valid_moves(color)\n",
    "            piece_index = random.randint(0, len(options) - 1)\n",
    "            move_index = random.randint(0, len(options[piece_index][1]) - 1)\n",
    "\n",
    "            piece, moves = options[piece_index]\n",
    "            move, rotation = moves[move_index]\n",
    "\n",
    "            # move piece\n",
    "            game_board.move_piece(\n",
    "                options[piece_index][0].position, direction=move, rotation=rotation\n",
    "            )\n",
    "\n",
    "            # End turn\n",
    "            game_board.end_turn(color)\n",
    "\n",
    "            # Check if the game is over\n",
    "            pharaoh_exists = game_board.is_game_over()\n",
    "            \n",
    "            board_state.append(game_board.board_repr())\n",
    "            board_scores.append(khet.engine.evaluate_board_simple(game_board._board, color))\n",
    "            nturn += 1\n",
    "            \n",
    "    return nturn, board_state, board_scores"
   ]
  },
  {
   "cell_type": "code",
   "execution_count": 10,
   "id": "cb9e2b68",
   "metadata": {},
   "outputs": [],
   "source": [
    "results = [simulate_game() for i in range(100)]"
   ]
  },
  {
   "cell_type": "code",
   "execution_count": 12,
   "id": "cc8a7065",
   "metadata": {},
   "outputs": [
    {
     "data": {
      "image/png": "[encoded data removed]",
      "text/plain": [
       "<Figure size 432x288 with 1 Axes>"
      ]
     },
     "metadata": {
      "needs_background": "light"
     },
     "output_type": "display_data"
    }
   ],
   "source": [
    "plt.figure()\n",
    "for res in results:\n",
    "    plt.plot(res[-1][::2])\n",
    "    \n",
    "plt.ylim([-1000, 1000])\n",
    "plt.show()"
   ]
  },
  {
   "cell_type": "markdown",
   "id": "372a9722",
   "metadata": {},
   "source": [
    "## Alpha-beta pruning"
   ]
  },
  {
   "cell_type": "code",
   "execution_count": 103,
   "id": "178863ab",
   "metadata": {},
   "outputs": [],
   "source": [
    "from copy import deepcopy\n",
    "\n",
    "class TicTacToe:\n",
    "    def __init__(self, x=3, y=3):\n",
    "        \"\"\"\n",
    "        \"\"\"\n",
    "        self.x = x\n",
    "        self.y = y\n",
    "        self._board = [\n",
    "            [None for _ in range(y)] for _ in range(x)\n",
    "        ]\n",
    "        \n",
    "    def get_all_valid_moves(self):\n",
    "        \"\"\"\n",
    "        \"\"\"\n",
    "        moves = []\n",
    "        for xi in range(self.x):\n",
    "            for yi in range(self.y):\n",
    "                if self._board[xi][yi] is None:\n",
    "                    moves.append((xi, yi))\n",
    "                    \n",
    "        return moves[::-1]\n",
    "    \n",
    "    \n",
    "def evaluate_board_simple(board, color):\n",
    "    \"\"\"\n",
    "    \"\"\"\n",
    "    score = 0\n",
    "    for ri, row in enumerate(board._board):\n",
    "        for si, square in enumerate(row):\n",
    "            if square:\n",
    "                score \n",
    "                \n",
    "    return score\n",
    "\n",
    "def make_move(board, move, color):\n",
    "    \"\"\"\n",
    "    \"\"\"\n",
    "    bb = deepcopy(board)\n",
    "    if bb._board[move[0]][move[1]] is None:\n",
    "        bb._board[move[0]][move[1]] = color\n",
    "\n",
    "    return bb"
   ]
  },
  {
   "cell_type": "code",
   "execution_count": 195,
   "id": "e085525c",
   "metadata": {},
   "outputs": [],
   "source": [
    "import math\n",
    "\n",
    "transposition_table = {}\n",
    "\n",
    "\n",
    "def alpha_beta_search(\n",
    "    board, depth, alpha=-math.inf, beta=math.inf, maximizing_player=True\n",
    "):\n",
    "    if depth == 0:\n",
    "        return evaluate_board_simple(board), None\n",
    "\n",
    "    # Get all of the potential legal moves\n",
    "    legal_moves = board.get_all_valid_moves()\n",
    "\n",
    "    if maximizing_player:\n",
    "        max_eval = float(\"-inf\")\n",
    "        best_move = None\n",
    "        for move in legal_moves:\n",
    "            new_board = make_move(board, move)\n",
    "            eval_score, _move = alpha_beta_search(\n",
    "                new_board, depth - 1, alpha, beta, False\n",
    "            )\n",
    "            if eval_score > max_eval:\n",
    "                max_eval = eval_score\n",
    "                best_move = move\n",
    "            alpha = max(alpha, eval_score)\n",
    "            if beta <= alpha:\n",
    "                break  # Beta cutoff\n",
    "\n",
    "        return max_eval, best_move\n",
    "\n",
    "    else:\n",
    "        min_eval = float(\"inf\")\n",
    "        best_move = None\n",
    "        for move in legal_moves:\n",
    "            new_board = make_move(board, move)\n",
    "            eval_score, _move = alpha_beta_search(\n",
    "                new_board, depth - 1, alpha, beta, True\n",
    "            )\n",
    "            if eval_score < min_eval:\n",
    "                min_eval = eval_score\n",
    "                best_move = move\n",
    "            beta = min(beta, eval_score)\n",
    "            if beta <= alpha:\n",
    "                break  # Alpha cutoff\n",
    "\n",
    "        return min_eval, best_move"
   ]
  },
  {
   "cell_type": "code",
   "execution_count": 196,
   "id": "5fc925a8",
   "metadata": {},
   "outputs": [],
   "source": [
    "board = Board()\n",
    "board._board[0][0] = 1\n",
    "board._board[1][0] = 1\n",
    "board._board[1][1] = 1\n",
    "board._board[0][1] = 1"
   ]
  },
  {
   "cell_type": "code",
   "execution_count": 204,
   "id": "15fe46f8",
   "metadata": {},
   "outputs": [
    {
     "name": "stdout",
     "output_type": "stream",
     "text": [
      "CPU times: user 10.3 ms, sys: 775 µs, total: 11.1 ms\n",
      "Wall time: 10.7 ms\n"
     ]
    }
   ],
   "source": [
    "%%time\n",
    "s = alpha_beta_search(board, 2)"
   ]
  },
  {
   "cell_type": "code",
   "execution_count": 205,
   "id": "da6ece3b",
   "metadata": {},
   "outputs": [
    {
     "data": {
      "text/plain": [
       "(-11.071067811865476, (2, 0))"
      ]
     },
     "execution_count": 205,
     "metadata": {},
     "output_type": "execute_result"
    }
   ],
   "source": [
    "s"
   ]
  },
  {
   "cell_type": "code",
   "execution_count": 206,
   "id": "fd32ed45",
   "metadata": {},
   "outputs": [
    {
     "name": "stdout",
     "output_type": "stream",
     "text": [
      "peak memory: 88.74 MiB, increment: 0.02 MiB\n"
     ]
    }
   ],
   "source": [
    "%memit"
   ]
  },
  {
   "cell_type": "code",
   "execution_count": 127,
   "id": "070e667a",
   "metadata": {},
   "outputs": [],
   "source": [
    "from string import ascii_lowercase\n",
    "import random"
   ]
  },
  {
   "cell_type": "code",
   "execution_count": 177,
   "id": "067cd941",
   "metadata": {},
   "outputs": [],
   "source": [
    "keys = {\n",
    "    j: i for i, j in enumerate(ascii_lowercase)\n",
    "}\n",
    "moves = {}"
   ]
  },
  {
   "cell_type": "code",
   "execution_count": 178,
   "id": "98a3540f",
   "metadata": {},
   "outputs": [],
   "source": [
    "def irange(n=2):\n",
    "    \"\"\"\n",
    "    \"\"\"\n",
    "    key = \"\".join(\n",
    "        [ascii_lowercase[random.randint(0, len(ascii_lowercase) - 1)] for _ in range(n)]\n",
    "    )\n",
    "    if key in moves:\n",
    "        return -1\n",
    "    else:\n",
    "        score = 0\n",
    "        for k in key:\n",
    "            score += keys[k]\n",
    "        \n",
    "        moves[key] = score\n",
    "        return irange()"
   ]
  },
  {
   "cell_type": "code",
   "execution_count": 194,
   "id": "10c96615",
   "metadata": {},
   "outputs": [
    {
     "data": {
      "text/plain": [
       "101"
      ]
     },
     "execution_count": 194,
     "metadata": {},
     "output_type": "execute_result"
    }
   ],
   "source": [
    "irange()\n",
    "len(moves)"
   ]
  }
 ],
 "metadata": {
  "kernelspec": {
   "display_name": "Python 3 (ipykernel)",
   "language": "python",
   "name": "python3"
  },
  "language_info": {
   "codemirror_mode": {
    "name": "ipython",
    "version": 3
   },
   "file_extension": ".py",
   "mimetype": "text/x-python",
   "name": "python",
   "nbconvert_exporter": "python",
   "pygments_lexer": "ipython3",
   "version": "3.8.8"
  },
  "toc": {
   "base_numbering": 1,
   "nav_menu": {},
   "number_sections": true,
   "sideBar": true,
   "skip_h1_title": false,
   "title_cell": "Table of Contents",
   "title_sidebar": "Contents",
   "toc_cell": false,
   "toc_position": {},
   "toc_section_display": true,
   "toc_window_display": false
  }
 },
 "nbformat": 4,
 "nbformat_minor": 5
}
