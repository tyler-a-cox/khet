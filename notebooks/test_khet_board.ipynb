{
 "cells": [
  {
   "cell_type": "code",
   "execution_count": 1,
   "id": "657fe9ff",
   "metadata": {},
   "outputs": [],
   "source": [
    "import khet\n",
    "import random\n",
    "import pylab as plt\n",
    "import multiprocessing\n",
    "%load_ext line_profiler\n",
    "%load_ext memory_profiler"
   ]
  },
  {
   "cell_type": "code",
   "execution_count": 2,
   "id": "66fe386f",
   "metadata": {},
   "outputs": [
    {
     "name": "stdout",
     "output_type": "stream",
     "text": [
      "CPU times: user 74 µs, sys: 5 µs, total: 79 µs\n",
      "Wall time: 83 µs\n"
     ]
    }
   ],
   "source": [
    "%%time\n",
    "# Setup the game board\n",
    "game_board = khet.engine.board.GameBoard('classic')"
   ]
  },
  {
   "cell_type": "code",
   "execution_count": 3,
   "id": "7607d7f1",
   "metadata": {},
   "outputs": [
    {
     "name": "stdout",
     "output_type": "stream",
     "text": [
      "CPU times: user 24 µs, sys: 1 µs, total: 25 µs\n",
      "Wall time: 29.1 µs\n"
     ]
    }
   ],
   "source": [
    "%%time\n",
    "_ = khet.engine.evaluate_board_simple(game_board._board, 'red')"
   ]
  },
  {
   "cell_type": "code",
   "execution_count": 4,
   "id": "e618308a",
   "metadata": {},
   "outputs": [
    {
     "data": {
      "text/plain": [
       "'Sdra0.Adre0.Pdrf0.Adrg0.prrh0.pdrc1.plsd2.pura3.pdsc3.Slre3.Surf3.prrh3.plsj3.prra4.plsc4.Srse4.Sdsf4.purh4.pdsj4.prrg5.push6.plsc7.Ausd7.Puse7.Ausf7.Susj7.'"
      ]
     },
     "execution_count": 4,
     "metadata": {},
     "output_type": "execute_result"
    }
   ],
   "source": [
    "game_board.board_repr()"
   ]
  },
  {
   "cell_type": "code",
   "execution_count": 5,
   "id": "b3c5c1f4",
   "metadata": {},
   "outputs": [
    {
     "name": "stdout",
     "output_type": "stream",
     "text": [
      "CPU times: user 3.03 s, sys: 15.3 ms, total: 3.05 s\n",
      "Wall time: 3.06 s\n"
     ]
    }
   ],
   "source": [
    "%%time\n",
    "ngames = 1000\n",
    "for game in range(ngames):\n",
    "    # Setup the game board\n",
    "    game_board = khet.engine.board.GameBoard(\"classic\")\n",
    "\n",
    "    # Number of turns before stopping\n",
    "    n_turns = 100\n",
    "    nturn = 0\n",
    "    is_game_active = True\n",
    "\n",
    "    # Loop through turns\n",
    "    #m_moves = []\n",
    "    while is_game_active and nturn < n_turns:\n",
    "        for color in [\"silver\", \"red\"]:\n",
    "\n",
    "            options = game_board.get_all_valid_moves(color)\n",
    "            piece_index = random.randint(0, len(options) - 1)\n",
    "            \n",
    "            piece, all_moves = options[piece_index]\n",
    "            all_moves = list(all_moves)\n",
    "            move_index = random.randint(0, len(all_moves) - 1)\n",
    "            move, rotation = all_moves[move_index]\n",
    "            #options = game_board.get_all_valid_moves(color)\n",
    "            #piece_index = random.randint(0, len(options) - 1)\n",
    "            #move_index = random.randint(0, len(options[piece_index][1]) - 1)\n",
    "            \n",
    "            #piece, moves = options[piece_index]\n",
    "            #move, rotation = moves[move_index]\n",
    "            #m_moves.append((piece.position, piece.__name__, move, rotation))\n",
    "\n",
    "            # check\n",
    "            #for ri, row in enumerate(game_board._board):\n",
    "            #    for rj, item in enumerate(row):\n",
    "            #        if item:\n",
    "                        #print (game, nturn, item.__name__, item.position, (ri, rj), id(item))\n",
    "            #            if item.position != (ri, rj):\n",
    "                            #print (game, nturn, item.__name__, item.position, (ri, rj))\n",
    "            #                raise ValueError\n",
    "            \n",
    "            # move piece\n",
    "            #print (piece.position, move, rotation)\n",
    "            #print(\"Turn start\", piece.__name__, id(piece), 'move')\n",
    "            #for ri, row in enumerate(game_board._board):\n",
    "            #    for rj, item in enumerate(row):\n",
    "            #        if item:\n",
    "            #            print((item.__name__, item.position, (ri, rj), id(item), item.position == (ri, rj)))\n",
    "            #print ()\n",
    "\n",
    "            game_board.move_piece(\n",
    "                piece.position, direction=move, rotation=rotation\n",
    "            )\n",
    "    \n",
    "            #for ri, row in enumerate(game_board._board):\n",
    "            #    for rj, item in enumerate(row):\n",
    "            #        if item:\n",
    "            #            print((item.__name__, item.position, (ri, rj), id(item)), item.position == (ri, rj))\n",
    "            #print ()\n",
    "            # End turn\n",
    "            game_board.end_turn(color)\n",
    "\n",
    "            is_game_active = game_board.is_game_over()\n",
    "\n",
    "            nturn += 1"
   ]
  },
  {
   "cell_type": "code",
   "execution_count": 12,
   "id": "162a720b",
   "metadata": {},
   "outputs": [],
   "source": [
    "def print_board(board):\n",
    "    for row in board._board:\n",
    "        row_name = ''\n",
    "        for k in row:\n",
    "            if k:\n",
    "                if k.__name__ in [\"Pyramid\", \"Sphinx\"]:\n",
    "                    row_name += k.__name__[:1].lower()\n",
    "                else:\n",
    "                    row_name += k.__name__[:1]\n",
    "            else:\n",
    "                row_name += \".\"\n",
    "\n",
    "        print (row_name)\n",
    "\n",
    "    print ()\n",
    "    orientations = [\"A\", \">\", \"V\", \"<\"]\n",
    "\n",
    "    for row in board._board:\n",
    "        row_name = ''\n",
    "        for k in row:\n",
    "            if k:\n",
    "                row_name += orientations[k.orientation]\n",
    "            else:\n",
    "                row_name += \".\"\n",
    "\n",
    "        print (row_name)"
   ]
  },
  {
   "cell_type": "code",
   "execution_count": 13,
   "id": "f62b6dcc",
   "metadata": {},
   "outputs": [
    {
     "name": "stdout",
     "output_type": "stream",
     "text": [
      "CPU times: user 3.01 s, sys: 15.4 ms, total: 3.03 s\n",
      "Wall time: 3.04 s\n"
     ]
    }
   ],
   "source": [
    "%%time\n",
    "ngames = 1000\n",
    "nturn_list = []\n",
    "winners = []\n",
    "for game in range(ngames):\n",
    "    # Setup the game board\n",
    "    game_board = khet.engine.board.GameBoard(\"classic\")\n",
    "\n",
    "    # Number of turns before stopping\n",
    "    n_turns = 500\n",
    "    nturn = 0\n",
    "    pharaoh_exists = True\n",
    "\n",
    "    # Loop through turns\n",
    "    while pharaoh_exists and nturn < n_turns:\n",
    "        for color in [\"silver\", \"red\"]:\n",
    "            options = game_board.get_all_valid_moves(color)\n",
    "            piece_index = random.randint(0, len(options) - 1)\n",
    "            move_index = random.randint(0, len(options[piece_index][1]) - 1)\n",
    "            \n",
    "            piece, moves = options[piece_index]\n",
    "            move, rotation = moves[move_index]\n",
    "\n",
    "            # move piece\n",
    "            game_board.move_piece(\n",
    "                options[piece_index][0].position, direction=move, rotation=rotation\n",
    "            )\n",
    "\n",
    "            # End turn\n",
    "            game_board.end_turn(color)\n",
    "\n",
    "            #\n",
    "            active_pieces = [\n",
    "                piece\n",
    "                for row in game_board._board\n",
    "                for piece in row\n",
    "                if piece and piece.__name__ == 'Pharaoh'\n",
    "            ]\n",
    "            \n",
    "            if len(active_pieces) < 2:\n",
    "                pharaoh_exists = False\n",
    "                \n",
    "                try:\n",
    "                    if active_pieces[0].color == 'red':\n",
    "                        winners.append('silver')\n",
    "                    else:\n",
    "                        winners.append('red')\n",
    "                except:\n",
    "                    winners.append(None)\n",
    "                    \n",
    "                break\n",
    "\n",
    "            nturn += 1\n",
    "            \n",
    "    nturn_list.append(nturn)\n",
    "    if nturn == n_turns:\n",
    "        winners.append(None)"
   ]
  },
  {
   "cell_type": "code",
   "execution_count": 15,
   "id": "e5824c9d",
   "metadata": {},
   "outputs": [],
   "source": [
    "def simulate_game(n_turns=100):\n",
    "    board_state = []\n",
    "    board_scores = []\n",
    "    pharaoh_exists = True\n",
    "    nturn = 0\n",
    "    game_board = khet.engine.board.GameBoard(\"classic\")\n",
    "    while pharaoh_exists and nturn < n_turns:\n",
    "        for color in [\"silver\", \"red\"]:\n",
    "            options = game_board.get_all_valid_moves(color)\n",
    "            piece_index = random.randint(0, len(options) - 1)\n",
    "            move_index = random.randint(0, len(options[piece_index][1]) - 1)\n",
    "            \n",
    "            piece, moves = options[piece_index]\n",
    "            move, rotation = moves[move_index]\n",
    "\n",
    "            # move piece\n",
    "            game_board.move_piece(\n",
    "                options[piece_index][0].position, direction=move, rotation=rotation\n",
    "            )\n",
    "\n",
    "            # End turn\n",
    "            game_board.end_turn(color)\n",
    "\n",
    "            # Check if the game is over\n",
    "            pharaoh_exists = game_board.is_game_over()\n",
    "            \n",
    "            board_state.append(game_board.board_repr())\n",
    "            board_scores.append(khet.engine.evaluate_board_simple(game_board._board, color))\n",
    "            nturn += 1\n",
    "            \n",
    "    return nturn, board_state, board_scores"
   ]
  },
  {
   "cell_type": "code",
   "execution_count": 19,
   "id": "3c9374c5-f444-43e7-ae66-703e27c99472",
   "metadata": {},
   "outputs": [
    {
     "data": {
      "text/plain": [
       "Timer unit: 1e-09 s\n",
       "\n",
       "Total time: 0.002068 s\n",
       "File: /Users/tyler/mambaforge/envs/dev/lib/python3.10/site-packages/khet/engine/board.py\n",
       "Function: get_all_valid_moves at line 310\n",
       "\n",
       "Line #      Hits         Time  Per Hit   % Time  Line Contents\n",
       "==============================================================\n",
       "   310                                               def get_all_valid_moves(self, color) -> list:\n",
       "   311                                                   \"\"\"\n",
       "   312                                           \n",
       "   313                                                   Parameters:\n",
       "   314                                                       color: str\n",
       "   315                                                           Color of the player to get the valid moves for\n",
       "   316                                                   \"\"\"\n",
       "   317         4       2000.0    500.0      0.1          all_moves = []\n",
       "   318         8     175000.0  21875.0      8.5          active_pieces = [\n",
       "   319                                                       piece\n",
       "   320         4       2000.0    500.0      0.1              for row in self._board\n",
       "   321                                                       for piece in row\n",
       "   322                                                       if piece and piece.color == color\n",
       "   323                                                   ]\n",
       "   324        55      30000.0    545.5      1.5          for piece in active_pieces:\n",
       "   325        51      35000.0    686.3      1.7              moves = piece.get_valid_moves()\n",
       "   326                                                       #valid_moves = (move for move in moves if self.is_move_valid(piece, move[0], move[1]))\n",
       "   327       102    1741000.0  17068.6     84.2              valid_moves = list(\n",
       "   328        51      38000.0    745.1      1.8                  filter(lambda x: self.is_move_valid(piece, x[0], x[1]), moves)\n",
       "   329                                                       )\n",
       "   330                                                       #valid_moves = filter(lambda x: self.is_move_valid(piece, x[0], x[1]), moves)\n",
       "   331        51      42000.0    823.5      2.0              all_moves.append((piece, valid_moves))\n",
       "   332                                           \n",
       "   333         4       3000.0    750.0      0.1          return all_moves"
      ]
     },
     "metadata": {},
     "output_type": "display_data"
    }
   ],
   "source": [
    "%lprun -f khet.engine.GameBoard.get_all_valid_moves simulate_game()"
   ]
  }
 ],
 "metadata": {
  "kernelspec": {
   "display_name": "Python 3 (ipykernel)",
   "language": "python",
   "name": "python3"
  },
  "language_info": {
   "codemirror_mode": {
    "name": "ipython",
    "version": 3
   },
   "file_extension": ".py",
   "mimetype": "text/x-python",
   "name": "python",
   "nbconvert_exporter": "python",
   "pygments_lexer": "ipython3",
   "version": "3.10.13"
  },
  "toc": {
   "base_numbering": 1,
   "nav_menu": {},
   "number_sections": true,
   "sideBar": true,
   "skip_h1_title": false,
   "title_cell": "Table of Contents",
   "title_sidebar": "Contents",
   "toc_cell": false,
   "toc_position": {},
   "toc_section_display": true,
   "toc_window_display": false
  }
 },
 "nbformat": 4,
 "nbformat_minor": 5
}
